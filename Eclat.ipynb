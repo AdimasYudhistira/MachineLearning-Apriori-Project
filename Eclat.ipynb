{
 "cells": [
  {
   "cell_type": "code",
   "execution_count": 1,
   "id": "a99ef92c-b223-444b-8b90-83b6df763677",
   "metadata": {
    "tags": []
   },
   "outputs": [
    {
     "ename": "ImportError",
     "evalue": "cannot import name 'eclat' from 'mlxtend.frequent_patterns' (C:\\Users\\DIMAS\\anaconda3\\Lib\\site-packages\\mlxtend\\frequent_patterns\\__init__.py)",
     "output_type": "error",
     "traceback": [
      "\u001b[1;31m---------------------------------------------------------------------------\u001b[0m",
      "\u001b[1;31mImportError\u001b[0m                               Traceback (most recent call last)",
      "Cell \u001b[1;32mIn[1], line 4\u001b[0m\n\u001b[0;32m      1\u001b[0m \u001b[38;5;66;03m# Install mlxtend library\u001b[39;00m\n\u001b[0;32m      2\u001b[0m \u001b[38;5;66;03m# pip install mlxtend\u001b[39;00m\n\u001b[0;32m      3\u001b[0m \u001b[38;5;28;01mfrom\u001b[39;00m \u001b[38;5;21;01mmlxtend\u001b[39;00m\u001b[38;5;21;01m.\u001b[39;00m\u001b[38;5;21;01mpreprocessing\u001b[39;00m \u001b[38;5;28;01mimport\u001b[39;00m TransactionEncoder\n\u001b[1;32m----> 4\u001b[0m \u001b[38;5;28;01mfrom\u001b[39;00m \u001b[38;5;21;01mmlxtend\u001b[39;00m\u001b[38;5;21;01m.\u001b[39;00m\u001b[38;5;21;01mfrequent_patterns\u001b[39;00m \u001b[38;5;28;01mimport\u001b[39;00m eclat\n\u001b[0;32m      6\u001b[0m \u001b[38;5;66;03m# Data\u001b[39;00m\n\u001b[0;32m      7\u001b[0m data \u001b[38;5;241m=\u001b[39m [\n\u001b[0;32m      8\u001b[0m     [\u001b[38;5;124m\"\u001b[39m\u001b[38;5;124mAcer\u001b[39m\u001b[38;5;124m\"\u001b[39m, \u001b[38;5;124m\"\u001b[39m\u001b[38;5;124mSamsung\u001b[39m\u001b[38;5;124m\"\u001b[39m, \u001b[38;5;124m\"\u001b[39m\u001b[38;5;124mToshiba\u001b[39m\u001b[38;5;124m\"\u001b[39m],\n\u001b[0;32m      9\u001b[0m     [\u001b[38;5;124m\"\u001b[39m\u001b[38;5;124mAcer\u001b[39m\u001b[38;5;124m\"\u001b[39m, \u001b[38;5;124m\"\u001b[39m\u001b[38;5;124mAsus\u001b[39m\u001b[38;5;124m\"\u001b[39m, \u001b[38;5;124m\"\u001b[39m\u001b[38;5;124mToshiba\u001b[39m\u001b[38;5;124m\"\u001b[39m],\n\u001b[1;32m   (...)\u001b[0m\n\u001b[0;32m     19\u001b[0m     [\u001b[38;5;124m\"\u001b[39m\u001b[38;5;124mAsus\u001b[39m\u001b[38;5;124m\"\u001b[39m, \u001b[38;5;124m\"\u001b[39m\u001b[38;5;124mHP\u001b[39m\u001b[38;5;124m\"\u001b[39m, \u001b[38;5;124m\"\u001b[39m\u001b[38;5;124mSamsung\u001b[39m\u001b[38;5;124m\"\u001b[39m]\n\u001b[0;32m     20\u001b[0m ]\n",
      "\u001b[1;31mImportError\u001b[0m: cannot import name 'eclat' from 'mlxtend.frequent_patterns' (C:\\Users\\DIMAS\\anaconda3\\Lib\\site-packages\\mlxtend\\frequent_patterns\\__init__.py)"
     ]
    }
   ],
   "source": [
    "# Install mlxtend library\n",
    "# pip install mlxtend\n",
    "from mlxtend.preprocessing import TransactionEncoder\n",
    "from mlxtend.frequent_patterns import eclat\n",
    "\n",
    "# Data\n",
    "data = [\n",
    "    [\"Acer\", \"Samsung\", \"Toshiba\"],\n",
    "    [\"Acer\", \"Asus\", \"Toshiba\"],\n",
    "    [\"HP\", \"Samsung\", \"Toshiba\"],\n",
    "    [\"Acer\", \"Asus\", \"Samsung\"],\n",
    "    [\"Acer\", \"Samsung\", \"Toshiba\"],\n",
    "    [\"Acer\", \"HP\", \"Toshiba\"],\n",
    "    [\"Acer\", \"Asus\", \"Toshiba\"],\n",
    "    [\"Acer\", \"Asus\", \"HP\"],\n",
    "    [\"Asus\", \"HP\", \"Samsung\"],\n",
    "    [\"Acer\", \"HP\", \"Samsung\"],\n",
    "    [\"Acer\", \"Samsung\", \"Toshiba\"],\n",
    "    [\"Asus\", \"HP\", \"Samsung\"]\n",
    "]\n",
    "\n",
    "# Ubah data ke dalam format yang dapat diproses oleh mlxtend\n",
    "te = TransactionEncoder()\n",
    "te_ary = te.fit(data).transform(data)\n",
    "\n",
    "# Ubah menjadi DataFrame\n",
    "df = pd.DataFrame(te_ary, columns=te.columns_)\n",
    "\n",
    "# Gunakan algoritma Eclat\n",
    "min_support = 0.3\n",
    "frequent_itemsets = eclat(df, min_support=min_support)\n",
    "\n",
    "# Tampilkan hasil\n",
    "print(\"Frequent Itemsets:\")\n",
    "print(frequent_itemsets)\n"
   ]
  },
  {
   "cell_type": "code",
   "execution_count": null,
   "id": "1889aae3-4f1f-4298-b5c7-d68d432b6083",
   "metadata": {},
   "outputs": [],
   "source": []
  }
 ],
 "metadata": {
  "kernelspec": {
   "display_name": "Python 3 (ipykernel)",
   "language": "python",
   "name": "python3"
  },
  "language_info": {
   "codemirror_mode": {
    "name": "ipython",
    "version": 3
   },
   "file_extension": ".py",
   "mimetype": "text/x-python",
   "name": "python",
   "nbconvert_exporter": "python",
   "pygments_lexer": "ipython3",
   "version": "3.11.4"
  }
 },
 "nbformat": 4,
 "nbformat_minor": 5
}
