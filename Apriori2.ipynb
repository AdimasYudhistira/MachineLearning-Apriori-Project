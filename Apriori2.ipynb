{
 "cells": [
  {
   "cell_type": "code",
   "execution_count": 1,
   "id": "4dce031f-1e28-4fb5-a68a-ca7f9454f049",
   "metadata": {
    "tags": []
   },
   "outputs": [],
   "source": [
    "import pandas as pd\n",
    "from mlxtend.preprocessing import TransactionEncoder\n",
    "from mlxtend.frequent_patterns import apriori, association_rules\n",
    "\n",
    "# Data\n",
    "data = [\n",
    "    [\"Acer\", \"Samsung\", \"Toshiba\"],\n",
    "    [\"Acer\", \"Asus\", \"Toshiba\"],\n",
    "    [\"HP\", \"Samsung\", \"Toshiba\"],\n",
    "    [\"Acer\", \"Asus\", \"Samsung\"],\n",
    "    [\"Acer\", \"Samsung\", \"Toshiba\"],\n",
    "    [\"Acer\", \"HP\", \"Toshiba\"],\n",
    "    [\"Acer\", \"Asus\", \"Toshiba\"],\n",
    "    [\"Acer\", \"Asus\", \"HP\"],\n",
    "    [\"Asus\", \"HP\", \"Samsung\"],\n",
    "    [\"Acer\", \"HP\", \"Samsung\"],\n",
    "    [\"Acer\", \"Samsung\", \"Toshiba\"],\n",
    "    [\"Asus\", \"HP\", \"Samsung\"]\n",
    "]\n",
    "\n",
    "# Konversi dataset ke format yang dapat digunakan oleh algoritma Apriori\n",
    "te = TransactionEncoder()\n",
    "te_ary = te.fit(data).transform(data)\n",
    "df = pd.DataFrame(te_ary, columns=te.columns_)\n",
    "\n",
    "# Menerapkan algoritma Apriori\n",
    "frequent_itemsets = apriori(df, min_support=0.3, use_colnames=True)"
   ]
  },
  {
   "cell_type": "code",
   "execution_count": 2,
   "id": "ed3075db-7f6e-4c31-a0c0-02fbc439191c",
   "metadata": {},
   "outputs": [
    {
     "name": "stdout",
     "output_type": "stream",
     "text": [
      "Frequent Itemsets:\n",
      "    support            itemsets\n",
      "0  0.750000              (Acer)\n",
      "1  0.500000              (Asus)\n",
      "2  0.500000                (HP)\n",
      "3  0.666667           (Samsung)\n",
      "4  0.583333           (Toshiba)\n",
      "5  0.333333        (Acer, Asus)\n",
      "6  0.416667     (Acer, Samsung)\n",
      "7  0.500000     (Acer, Toshiba)\n",
      "8  0.333333       (HP, Samsung)\n",
      "9  0.333333  (Toshiba, Samsung)\n"
     ]
    }
   ],
   "source": [
    "# Menampilkan itemset yang sering muncul\n",
    "print(\"Frequent Itemsets:\")\n",
    "print(frequent_itemsets)"
   ]
  },
  {
   "cell_type": "code",
   "execution_count": 3,
   "id": "e6613ab9-2057-4b22-ac21-3ce494018f6e",
   "metadata": {},
   "outputs": [
    {
     "name": "stdout",
     "output_type": "stream",
     "text": [
      "\n",
      "Association Rules:\n",
      "  antecedents consequents  antecedent support  consequent support   support  \\\n",
      "0      (Asus)      (Acer)            0.500000            0.750000  0.333333   \n",
      "1   (Samsung)      (Acer)            0.666667            0.750000  0.416667   \n",
      "2      (Acer)   (Toshiba)            0.750000            0.583333  0.500000   \n",
      "3   (Toshiba)      (Acer)            0.583333            0.750000  0.500000   \n",
      "4        (HP)   (Samsung)            0.500000            0.666667  0.333333   \n",
      "\n",
      "   confidence      lift  leverage  conviction  zhangs_metric  \n",
      "0    0.666667  0.888889 -0.041667    0.750000         -0.200  \n",
      "1    0.625000  0.833333 -0.083333    0.666667         -0.375  \n",
      "2    0.666667  1.142857  0.062500    1.250000          0.500  \n",
      "3    0.857143  1.142857  0.062500    1.750000          0.300  \n",
      "4    0.666667  1.000000  0.000000    1.000000          0.000  \n"
     ]
    }
   ],
   "source": [
    "# Menampilkan asosiasi aturan dengan minimum confidence 60%\n",
    "rules = association_rules(frequent_itemsets, metric=\"confidence\", min_threshold=0.6)\n",
    "print(\"\\nAssociation Rules:\")\n",
    "print(rules)"
   ]
  },
  {
   "cell_type": "code",
   "execution_count": null,
   "id": "4103880e-b077-491b-84b2-50634c555f11",
   "metadata": {},
   "outputs": [],
   "source": []
  }
 ],
 "metadata": {
  "kernelspec": {
   "display_name": "Python 3 (ipykernel)",
   "language": "python",
   "name": "python3"
  },
  "language_info": {
   "codemirror_mode": {
    "name": "ipython",
    "version": 3
   },
   "file_extension": ".py",
   "mimetype": "text/x-python",
   "name": "python",
   "nbconvert_exporter": "python",
   "pygments_lexer": "ipython3",
   "version": "3.11.4"
  }
 },
 "nbformat": 4,
 "nbformat_minor": 5
}
